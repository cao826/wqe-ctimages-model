{
 "cells": [
  {
   "cell_type": "markdown",
   "id": "149012b1-bc67-49df-8c30-beb1c9a67118",
   "metadata": {},
   "source": [
    "## Concatenating metadata tables for negative scans"
   ]
  },
  {
   "cell_type": "code",
   "execution_count": 1,
   "id": "6c1b442b",
   "metadata": {},
   "outputs": [],
   "source": [
    "import os\n",
    "import sys\n",
    "import shutil\n",
    "import pandas as pd"
   ]
  },
  {
   "cell_type": "code",
   "execution_count": 2,
   "id": "550c6b50-a4a3-47e5-ba9b-f3dcbda817c8",
   "metadata": {},
   "outputs": [],
   "source": [
    "path2met1 = '/Volumes/My Passport for Mac/negative_scans/batch_0/manifest-1660158222427/metadata-01.csv'\n",
    "path2met2 = '/Volumes/My Passport for Mac/negative_scans/batch_1/manifest-1660253663452/metadata-02.csv'\n",
    "path2met3 = '/Volumes/My Passport for Mac/negative_scans/batch_2/manifest-1660658095094/metadata-03.csv'"
   ]
  },
  {
   "cell_type": "code",
   "execution_count": 10,
   "id": "2f33f959",
   "metadata": {},
   "outputs": [
    {
     "name": "stdout",
     "output_type": "stream",
     "text": [
      "(129, 17)\n",
      "(42, 17)\n"
     ]
    }
   ],
   "source": [
    "metadata_1 = pd.read_csv(path2met1)\n",
    "metadata_2 = pd.read_csv(path2met2)\n",
    "#metadata_3\n",
    "\n",
    "print(metadata_1.shape)\n",
    "print(metadata_2.shape)"
   ]
  },
  {
   "cell_type": "code",
   "execution_count": 5,
   "id": "f01651de",
   "metadata": {},
   "outputs": [
    {
     "data": {
      "text/plain": [
       "Index(['Series UID', 'Collection', '3rd Party Analysis',\n",
       "       'Data Description URI', 'Subject ID', 'Study UID', 'Study Description',\n",
       "       'Study Date', 'Series Description', 'Manufacturer', 'Modality',\n",
       "       'SOP Class Name', 'SOP Class UID', 'Number of Images', 'File Size',\n",
       "       'File Location', 'Download Timestamp'],\n",
       "      dtype='object')"
      ]
     },
     "execution_count": 5,
     "metadata": {},
     "output_type": "execute_result"
    }
   ],
   "source": [
    "metadata_1.columns"
   ]
  },
  {
   "cell_type": "code",
   "execution_count": 6,
   "id": "bf3a4040",
   "metadata": {},
   "outputs": [
    {
     "data": {
      "text/plain": [
       "Index(['Series UID', 'Collection', '3rd Party Analysis',\n",
       "       'Data Description URI', 'Subject ID', 'Study UID', 'Study Description',\n",
       "       'Study Date', 'Series Description', 'Manufacturer', 'Modality',\n",
       "       'SOP Class Name', 'SOP Class UID', 'Number of Images', 'File Size',\n",
       "       'File Location', 'Download Timestamp'],\n",
       "      dtype='object')"
      ]
     },
     "execution_count": 6,
     "metadata": {},
     "output_type": "execute_result"
    }
   ],
   "source": [
    "metadata_2.columns"
   ]
  },
  {
   "cell_type": "code",
   "execution_count": 7,
   "id": "b4db043b",
   "metadata": {},
   "outputs": [
    {
     "data": {
      "text/plain": [
       "array([ True,  True,  True,  True,  True,  True,  True,  True,  True,\n",
       "        True,  True,  True,  True,  True,  True,  True,  True])"
      ]
     },
     "execution_count": 7,
     "metadata": {},
     "output_type": "execute_result"
    }
   ],
   "source": [
    "metadata_1.columns == metadata_2.columns"
   ]
  },
  {
   "cell_type": "code",
   "execution_count": 8,
   "id": "08bfdeb2",
   "metadata": {},
   "outputs": [],
   "source": [
    "new_metadata = pd.concat([metadata_1, metadata_2], ignore_index=True)"
   ]
  },
  {
   "cell_type": "code",
   "execution_count": 9,
   "id": "16ccc798",
   "metadata": {},
   "outputs": [
    {
     "data": {
      "text/plain": [
       "(171, 17)"
      ]
     },
     "execution_count": 9,
     "metadata": {},
     "output_type": "execute_result"
    }
   ],
   "source": [
    "new_metadata.shape"
   ]
  },
  {
   "cell_type": "code",
   "execution_count": 11,
   "id": "462297ff",
   "metadata": {},
   "outputs": [
    {
     "data": {
      "text/html": [
       "<div>\n",
       "<style scoped>\n",
       "    .dataframe tbody tr th:only-of-type {\n",
       "        vertical-align: middle;\n",
       "    }\n",
       "\n",
       "    .dataframe tbody tr th {\n",
       "        vertical-align: top;\n",
       "    }\n",
       "\n",
       "    .dataframe thead th {\n",
       "        text-align: right;\n",
       "    }\n",
       "</style>\n",
       "<table border=\"1\" class=\"dataframe\">\n",
       "  <thead>\n",
       "    <tr style=\"text-align: right;\">\n",
       "      <th></th>\n",
       "      <th>Series UID</th>\n",
       "      <th>Collection</th>\n",
       "      <th>3rd Party Analysis</th>\n",
       "      <th>Data Description URI</th>\n",
       "      <th>Subject ID</th>\n",
       "      <th>Study UID</th>\n",
       "      <th>Study Description</th>\n",
       "      <th>Study Date</th>\n",
       "      <th>Series Description</th>\n",
       "      <th>Manufacturer</th>\n",
       "      <th>Modality</th>\n",
       "      <th>SOP Class Name</th>\n",
       "      <th>SOP Class UID</th>\n",
       "      <th>Number of Images</th>\n",
       "      <th>File Size</th>\n",
       "      <th>File Location</th>\n",
       "      <th>Download Timestamp</th>\n",
       "    </tr>\n",
       "  </thead>\n",
       "  <tbody>\n",
       "    <tr>\n",
       "      <th>0</th>\n",
       "      <td>1.2.840.113654.2.55.30553839444673841090670975...</td>\n",
       "      <td>NLST</td>\n",
       "      <td>NaN</td>\n",
       "      <td>NaN</td>\n",
       "      <td>100009</td>\n",
       "      <td>1.2.840.113654.2.55.19201242699572772187101624...</td>\n",
       "      <td>NLST-LSS</td>\n",
       "      <td>01-02-2001</td>\n",
       "      <td>2OPAGELS16D3802.5120818.0nullnull</td>\n",
       "      <td>GE MEDICAL SYSTEMS</td>\n",
       "      <td>CT</td>\n",
       "      <td>CT Image Storage</td>\n",
       "      <td>1.2.840.10008.5.1.4.1.1.2</td>\n",
       "      <td>162</td>\n",
       "      <td>85.31 MB</td>\n",
       "      <td>./NLST/100009/01-02-2001-NA-NLST-LSS-34385/2.0...</td>\n",
       "      <td>2022-08-10T12:05:34.612</td>\n",
       "    </tr>\n",
       "    <tr>\n",
       "      <th>1</th>\n",
       "      <td>1.2.840.113654.2.55.16322301212762389807484918...</td>\n",
       "      <td>NLST</td>\n",
       "      <td>NaN</td>\n",
       "      <td>NaN</td>\n",
       "      <td>100009</td>\n",
       "      <td>1.2.840.113654.2.55.11394555528208855253894081...</td>\n",
       "      <td>NLST-LSS</td>\n",
       "      <td>01-02-2000</td>\n",
       "      <td>1OPAGELSQXD3802.512064.00.11.5</td>\n",
       "      <td>GE MEDICAL SYSTEMS</td>\n",
       "      <td>CT</td>\n",
       "      <td>CT Image Storage</td>\n",
       "      <td>1.2.840.10008.5.1.4.1.1.2</td>\n",
       "      <td>175</td>\n",
       "      <td>92.16 MB</td>\n",
       "      <td>./NLST/100009/01-02-2000-NA-NLST-LSS-33248/2.0...</td>\n",
       "      <td>2022-08-10T12:05:36.607</td>\n",
       "    </tr>\n",
       "    <tr>\n",
       "      <th>2</th>\n",
       "      <td>1.2.840.113654.2.55.25266208482312797421685593...</td>\n",
       "      <td>NLST</td>\n",
       "      <td>NaN</td>\n",
       "      <td>NaN</td>\n",
       "      <td>100009</td>\n",
       "      <td>1.2.840.113654.2.55.11986719998729907224236081...</td>\n",
       "      <td>NLST-LSS</td>\n",
       "      <td>01-02-1999</td>\n",
       "      <td>0OPAGELSQXD3802.512070.00.11.5</td>\n",
       "      <td>GE MEDICAL SYSTEMS</td>\n",
       "      <td>CT</td>\n",
       "      <td>CT Image Storage</td>\n",
       "      <td>1.2.840.10008.5.1.4.1.1.2</td>\n",
       "      <td>156</td>\n",
       "      <td>82.15 MB</td>\n",
       "      <td>./NLST/100009/01-02-1999-NA-NLST-LSS-12631/2.0...</td>\n",
       "      <td>2022-08-10T12:05:36.796</td>\n",
       "    </tr>\n",
       "    <tr>\n",
       "      <th>3</th>\n",
       "      <td>1.2.840.113654.2.55.27656330236962408824892604...</td>\n",
       "      <td>NLST</td>\n",
       "      <td>NaN</td>\n",
       "      <td>NaN</td>\n",
       "      <td>100010</td>\n",
       "      <td>1.2.840.113654.2.55.18925881645685682117960478...</td>\n",
       "      <td>NLST-LSS</td>\n",
       "      <td>01-02-2000</td>\n",
       "      <td>1OPAGELSQXD3502.514048.00.01.5</td>\n",
       "      <td>GE MEDICAL SYSTEMS</td>\n",
       "      <td>CT</td>\n",
       "      <td>CT Image Storage</td>\n",
       "      <td>1.2.840.10008.5.1.4.1.1.2</td>\n",
       "      <td>130</td>\n",
       "      <td>68.46 MB</td>\n",
       "      <td>./NLST/100010/01-02-2000-NA-NLST-LSS-33184/2.0...</td>\n",
       "      <td>2022-08-10T12:05:44.985</td>\n",
       "    </tr>\n",
       "    <tr>\n",
       "      <th>4</th>\n",
       "      <td>1.2.840.113654.2.55.27999941063664947063743729...</td>\n",
       "      <td>NLST</td>\n",
       "      <td>NaN</td>\n",
       "      <td>NaN</td>\n",
       "      <td>100010</td>\n",
       "      <td>1.2.840.113654.2.55.23646793050031342184766275...</td>\n",
       "      <td>NLST-LSS</td>\n",
       "      <td>01-02-2001</td>\n",
       "      <td>2OPAGELSQXD3502.514048.00.01.5</td>\n",
       "      <td>GE MEDICAL SYSTEMS</td>\n",
       "      <td>CT</td>\n",
       "      <td>CT Image Storage</td>\n",
       "      <td>1.2.840.10008.5.1.4.1.1.2</td>\n",
       "      <td>137</td>\n",
       "      <td>72.15 MB</td>\n",
       "      <td>./NLST/100010/01-02-2001-NA-NLST-LSS-62399/2.0...</td>\n",
       "      <td>2022-08-10T12:05:48.54</td>\n",
       "    </tr>\n",
       "  </tbody>\n",
       "</table>\n",
       "</div>"
      ],
      "text/plain": [
       "                                          Series UID Collection  \\\n",
       "0  1.2.840.113654.2.55.30553839444673841090670975...       NLST   \n",
       "1  1.2.840.113654.2.55.16322301212762389807484918...       NLST   \n",
       "2  1.2.840.113654.2.55.25266208482312797421685593...       NLST   \n",
       "3  1.2.840.113654.2.55.27656330236962408824892604...       NLST   \n",
       "4  1.2.840.113654.2.55.27999941063664947063743729...       NLST   \n",
       "\n",
       "   3rd Party Analysis  Data Description URI  Subject ID  \\\n",
       "0                 NaN                   NaN      100009   \n",
       "1                 NaN                   NaN      100009   \n",
       "2                 NaN                   NaN      100009   \n",
       "3                 NaN                   NaN      100010   \n",
       "4                 NaN                   NaN      100010   \n",
       "\n",
       "                                           Study UID Study Description  \\\n",
       "0  1.2.840.113654.2.55.19201242699572772187101624...          NLST-LSS   \n",
       "1  1.2.840.113654.2.55.11394555528208855253894081...          NLST-LSS   \n",
       "2  1.2.840.113654.2.55.11986719998729907224236081...          NLST-LSS   \n",
       "3  1.2.840.113654.2.55.18925881645685682117960478...          NLST-LSS   \n",
       "4  1.2.840.113654.2.55.23646793050031342184766275...          NLST-LSS   \n",
       "\n",
       "   Study Date                 Series Description        Manufacturer Modality  \\\n",
       "0  01-02-2001  2OPAGELS16D3802.5120818.0nullnull  GE MEDICAL SYSTEMS       CT   \n",
       "1  01-02-2000     1OPAGELSQXD3802.512064.00.11.5  GE MEDICAL SYSTEMS       CT   \n",
       "2  01-02-1999     0OPAGELSQXD3802.512070.00.11.5  GE MEDICAL SYSTEMS       CT   \n",
       "3  01-02-2000     1OPAGELSQXD3502.514048.00.01.5  GE MEDICAL SYSTEMS       CT   \n",
       "4  01-02-2001     2OPAGELSQXD3502.514048.00.01.5  GE MEDICAL SYSTEMS       CT   \n",
       "\n",
       "     SOP Class Name              SOP Class UID  Number of Images File Size  \\\n",
       "0  CT Image Storage  1.2.840.10008.5.1.4.1.1.2               162  85.31 MB   \n",
       "1  CT Image Storage  1.2.840.10008.5.1.4.1.1.2               175  92.16 MB   \n",
       "2  CT Image Storage  1.2.840.10008.5.1.4.1.1.2               156  82.15 MB   \n",
       "3  CT Image Storage  1.2.840.10008.5.1.4.1.1.2               130  68.46 MB   \n",
       "4  CT Image Storage  1.2.840.10008.5.1.4.1.1.2               137  72.15 MB   \n",
       "\n",
       "                                       File Location       Download Timestamp  \n",
       "0  ./NLST/100009/01-02-2001-NA-NLST-LSS-34385/2.0...  2022-08-10T12:05:34.612  \n",
       "1  ./NLST/100009/01-02-2000-NA-NLST-LSS-33248/2.0...  2022-08-10T12:05:36.607  \n",
       "2  ./NLST/100009/01-02-1999-NA-NLST-LSS-12631/2.0...  2022-08-10T12:05:36.796  \n",
       "3  ./NLST/100010/01-02-2000-NA-NLST-LSS-33184/2.0...  2022-08-10T12:05:44.985  \n",
       "4  ./NLST/100010/01-02-2001-NA-NLST-LSS-62399/2.0...   2022-08-10T12:05:48.54  "
      ]
     },
     "execution_count": 11,
     "metadata": {},
     "output_type": "execute_result"
    }
   ],
   "source": [
    "new_metadata.head()"
   ]
  },
  {
   "cell_type": "markdown",
   "id": "6c680a0a",
   "metadata": {},
   "source": [
    "## Doing it programatically\n"
   ]
  },
  {
   "cell_type": "code",
   "execution_count": 8,
   "id": "1eeb7fff",
   "metadata": {},
   "outputs": [],
   "source": [
    "path2metadatafiles = '/Volumes/My Passport for Mac/negative_scans/metadatafiles'\n",
    "metadata_filenames = [file for file in os.listdir(path2metadatafiles) if '.csv' in file]"
   ]
  },
  {
   "cell_type": "code",
   "execution_count": 9,
   "id": "e2a1ae7a",
   "metadata": {},
   "outputs": [],
   "source": [
    "metadata_dataframes = [pd.read_csv(os.path.join(path2metadatafiles, file)) for file in metadata_filenames]"
   ]
  },
  {
   "cell_type": "code",
   "execution_count": 10,
   "id": "b7825439",
   "metadata": {},
   "outputs": [],
   "source": [
    "unified_metadata = pd.concat(metadata_dataframes, ignore_index=True)"
   ]
  },
  {
   "cell_type": "code",
   "execution_count": 11,
   "id": "534c784a",
   "metadata": {},
   "outputs": [
    {
     "data": {
      "text/plain": [
       "(646, 17)"
      ]
     },
     "execution_count": 11,
     "metadata": {},
     "output_type": "execute_result"
    }
   ],
   "source": [
    "unified_metadata.shape"
   ]
  },
  {
   "cell_type": "code",
   "execution_count": 12,
   "id": "80cef7f3-2a3c-4a99-840b-6b7c89d5d5e4",
   "metadata": {},
   "outputs": [],
   "source": [
    "unified_metadata = unified_metadata.sort_values(by='Number of Images')"
   ]
  },
  {
   "cell_type": "code",
   "execution_count": 13,
   "id": "bc4b38c6-42b9-4938-86cf-e8e9d1bd7dd2",
   "metadata": {},
   "outputs": [
    {
     "data": {
      "text/html": [
       "<div>\n",
       "<style scoped>\n",
       "    .dataframe tbody tr th:only-of-type {\n",
       "        vertical-align: middle;\n",
       "    }\n",
       "\n",
       "    .dataframe tbody tr th {\n",
       "        vertical-align: top;\n",
       "    }\n",
       "\n",
       "    .dataframe thead th {\n",
       "        text-align: right;\n",
       "    }\n",
       "</style>\n",
       "<table border=\"1\" class=\"dataframe\">\n",
       "  <thead>\n",
       "    <tr style=\"text-align: right;\">\n",
       "      <th></th>\n",
       "      <th>Series UID</th>\n",
       "      <th>Collection</th>\n",
       "      <th>3rd Party Analysis</th>\n",
       "      <th>Data Description URI</th>\n",
       "      <th>Subject ID</th>\n",
       "      <th>Study UID</th>\n",
       "      <th>Study Description</th>\n",
       "      <th>Study Date</th>\n",
       "      <th>Series Description</th>\n",
       "      <th>Manufacturer</th>\n",
       "      <th>Modality</th>\n",
       "      <th>SOP Class Name</th>\n",
       "      <th>SOP Class UID</th>\n",
       "      <th>Number of Images</th>\n",
       "      <th>File Size</th>\n",
       "      <th>File Location</th>\n",
       "      <th>Download Timestamp</th>\n",
       "    </tr>\n",
       "  </thead>\n",
       "  <tbody>\n",
       "    <tr>\n",
       "      <th>9</th>\n",
       "      <td>1.2.840.113654.2.55.12956211193113193486393566...</td>\n",
       "      <td>NLST</td>\n",
       "      <td>NaN</td>\n",
       "      <td>NaN</td>\n",
       "      <td>100015</td>\n",
       "      <td>1.2.840.113654.2.55.72042510609262695825058314...</td>\n",
       "      <td>NLST-LSS</td>\n",
       "      <td>01-02-2001</td>\n",
       "      <td>2OPAPHMX8000D3433.212039.00.01.75</td>\n",
       "      <td>Philips</td>\n",
       "      <td>CT</td>\n",
       "      <td>CT Image Storage</td>\n",
       "      <td>1.2.840.10008.5.1.4.1.1.2</td>\n",
       "      <td>30</td>\n",
       "      <td>15.79 MB</td>\n",
       "      <td>./NLST/100015/01-02-2001-NA-NLST-LSS-38059/697...</td>\n",
       "      <td>2022-08-10T12:06:07.26</td>\n",
       "    </tr>\n",
       "    <tr>\n",
       "      <th>285</th>\n",
       "      <td>1.2.840.113654.2.55.59083523304279024931819345...</td>\n",
       "      <td>NLST</td>\n",
       "      <td>NaN</td>\n",
       "      <td>NaN</td>\n",
       "      <td>100392</td>\n",
       "      <td>1.2.840.113654.2.55.12686920875367267733619883...</td>\n",
       "      <td>NLST-LSS</td>\n",
       "      <td>01-02-1999</td>\n",
       "      <td>0OPAPHMX8000D3493.212055.0nullnull</td>\n",
       "      <td>Philips</td>\n",
       "      <td>CT</td>\n",
       "      <td>CT Image Storage</td>\n",
       "      <td>1.2.840.10008.5.1.4.1.1.2</td>\n",
       "      <td>66</td>\n",
       "      <td>34.74 MB</td>\n",
       "      <td>./NLST/100392/01-02-1999-NA-NLST-LSS-77115/988...</td>\n",
       "      <td>2022-08-16T07:07:58.473</td>\n",
       "    </tr>\n",
       "    <tr>\n",
       "      <th>284</th>\n",
       "      <td>1.2.840.113654.2.55.32623926315258233999508196...</td>\n",
       "      <td>NLST</td>\n",
       "      <td>NaN</td>\n",
       "      <td>NaN</td>\n",
       "      <td>100392</td>\n",
       "      <td>1.2.840.113654.2.55.20851884748187919223605454...</td>\n",
       "      <td>NLST-LSS</td>\n",
       "      <td>01-02-2000</td>\n",
       "      <td>1OPAPHMX8000D3403.212055.0nullnull</td>\n",
       "      <td>Philips</td>\n",
       "      <td>CT</td>\n",
       "      <td>CT Image Storage</td>\n",
       "      <td>1.2.840.10008.5.1.4.1.1.2</td>\n",
       "      <td>72</td>\n",
       "      <td>37.90 MB</td>\n",
       "      <td>./NLST/100392/01-02-2000-NA-NLST-LSS-52396/869...</td>\n",
       "      <td>2022-08-16T07:07:57.619</td>\n",
       "    </tr>\n",
       "    <tr>\n",
       "      <th>286</th>\n",
       "      <td>1.2.840.113654.2.55.25607972039193815253923076...</td>\n",
       "      <td>NLST</td>\n",
       "      <td>NaN</td>\n",
       "      <td>NaN</td>\n",
       "      <td>100392</td>\n",
       "      <td>1.2.840.113654.2.55.23602920433504799696444473...</td>\n",
       "      <td>NLST-LSS</td>\n",
       "      <td>01-02-2001</td>\n",
       "      <td>2OPAPHMX8000D3403.212055.0nullnull</td>\n",
       "      <td>Philips</td>\n",
       "      <td>CT</td>\n",
       "      <td>CT Image Storage</td>\n",
       "      <td>1.2.840.10008.5.1.4.1.1.2</td>\n",
       "      <td>85</td>\n",
       "      <td>44.74 MB</td>\n",
       "      <td>./NLST/100392/01-02-2001-NA-NLST-LSS-43590/367...</td>\n",
       "      <td>2022-08-16T07:08:02.538</td>\n",
       "    </tr>\n",
       "    <tr>\n",
       "      <th>197</th>\n",
       "      <td>1.2.840.113654.2.55.23628971939570524748054233...</td>\n",
       "      <td>NLST</td>\n",
       "      <td>NaN</td>\n",
       "      <td>NaN</td>\n",
       "      <td>100260</td>\n",
       "      <td>1.2.840.113654.2.55.11249086440213545689056573...</td>\n",
       "      <td>NLST-LSS</td>\n",
       "      <td>01-02-2000</td>\n",
       "      <td>1OPATOAQUL4C359.43</td>\n",
       "      <td>TOSHIBA</td>\n",
       "      <td>CT</td>\n",
       "      <td>CT Image Storage</td>\n",
       "      <td>1.2.840.10008.5.1.4.1.1.2</td>\n",
       "      <td>89</td>\n",
       "      <td>46.85 MB</td>\n",
       "      <td>./NLST/100260/01-02-2000-NA-NLST-LSS-07813/1.0...</td>\n",
       "      <td>2022-08-16T06:59:32.392</td>\n",
       "    </tr>\n",
       "  </tbody>\n",
       "</table>\n",
       "</div>"
      ],
      "text/plain": [
       "                                            Series UID Collection  \\\n",
       "9    1.2.840.113654.2.55.12956211193113193486393566...       NLST   \n",
       "285  1.2.840.113654.2.55.59083523304279024931819345...       NLST   \n",
       "284  1.2.840.113654.2.55.32623926315258233999508196...       NLST   \n",
       "286  1.2.840.113654.2.55.25607972039193815253923076...       NLST   \n",
       "197  1.2.840.113654.2.55.23628971939570524748054233...       NLST   \n",
       "\n",
       "     3rd Party Analysis  Data Description URI  Subject ID  \\\n",
       "9                   NaN                   NaN      100015   \n",
       "285                 NaN                   NaN      100392   \n",
       "284                 NaN                   NaN      100392   \n",
       "286                 NaN                   NaN      100392   \n",
       "197                 NaN                   NaN      100260   \n",
       "\n",
       "                                             Study UID Study Description  \\\n",
       "9    1.2.840.113654.2.55.72042510609262695825058314...          NLST-LSS   \n",
       "285  1.2.840.113654.2.55.12686920875367267733619883...          NLST-LSS   \n",
       "284  1.2.840.113654.2.55.20851884748187919223605454...          NLST-LSS   \n",
       "286  1.2.840.113654.2.55.23602920433504799696444473...          NLST-LSS   \n",
       "197  1.2.840.113654.2.55.11249086440213545689056573...          NLST-LSS   \n",
       "\n",
       "     Study Date                  Series Description Manufacturer Modality  \\\n",
       "9    01-02-2001   2OPAPHMX8000D3433.212039.00.01.75      Philips       CT   \n",
       "285  01-02-1999  0OPAPHMX8000D3493.212055.0nullnull      Philips       CT   \n",
       "284  01-02-2000  1OPAPHMX8000D3403.212055.0nullnull      Philips       CT   \n",
       "286  01-02-2001  2OPAPHMX8000D3403.212055.0nullnull      Philips       CT   \n",
       "197  01-02-2000                  1OPATOAQUL4C359.43      TOSHIBA       CT   \n",
       "\n",
       "       SOP Class Name              SOP Class UID  Number of Images File Size  \\\n",
       "9    CT Image Storage  1.2.840.10008.5.1.4.1.1.2                30  15.79 MB   \n",
       "285  CT Image Storage  1.2.840.10008.5.1.4.1.1.2                66  34.74 MB   \n",
       "284  CT Image Storage  1.2.840.10008.5.1.4.1.1.2                72  37.90 MB   \n",
       "286  CT Image Storage  1.2.840.10008.5.1.4.1.1.2                85  44.74 MB   \n",
       "197  CT Image Storage  1.2.840.10008.5.1.4.1.1.2                89  46.85 MB   \n",
       "\n",
       "                                         File Location  \\\n",
       "9    ./NLST/100015/01-02-2001-NA-NLST-LSS-38059/697...   \n",
       "285  ./NLST/100392/01-02-1999-NA-NLST-LSS-77115/988...   \n",
       "284  ./NLST/100392/01-02-2000-NA-NLST-LSS-52396/869...   \n",
       "286  ./NLST/100392/01-02-2001-NA-NLST-LSS-43590/367...   \n",
       "197  ./NLST/100260/01-02-2000-NA-NLST-LSS-07813/1.0...   \n",
       "\n",
       "          Download Timestamp  \n",
       "9     2022-08-10T12:06:07.26  \n",
       "285  2022-08-16T07:07:58.473  \n",
       "284  2022-08-16T07:07:57.619  \n",
       "286  2022-08-16T07:08:02.538  \n",
       "197  2022-08-16T06:59:32.392  "
      ]
     },
     "execution_count": 13,
     "metadata": {},
     "output_type": "execute_result"
    }
   ],
   "source": [
    "unified_metadata.head()"
   ]
  },
  {
   "cell_type": "code",
   "execution_count": 14,
   "id": "ff360108",
   "metadata": {},
   "outputs": [],
   "source": [
    "export_path = '/Volumes/My Passport for Mac/negative_scans/batch_0/manifest-1660158222427'\n",
    "unified_metadata.to_csv(os.path.join(export_path, 'unified_metadata.csv'))"
   ]
  },
  {
   "cell_type": "code",
   "execution_count": null,
   "id": "01259aa5",
   "metadata": {},
   "outputs": [],
   "source": []
  }
 ],
 "metadata": {
  "kernelspec": {
   "display_name": "Python [conda env:dicom]",
   "language": "python",
   "name": "conda-env-dicom-py"
  },
  "language_info": {
   "codemirror_mode": {
    "name": "ipython",
    "version": 3
   },
   "file_extension": ".py",
   "mimetype": "text/x-python",
   "name": "python",
   "nbconvert_exporter": "python",
   "pygments_lexer": "ipython3",
   "version": "3.10.4"
  }
 },
 "nbformat": 4,
 "nbformat_minor": 5
}
