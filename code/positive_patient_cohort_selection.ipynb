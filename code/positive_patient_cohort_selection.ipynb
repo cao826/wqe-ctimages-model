{
 "cells": [
  {
   "cell_type": "code",
   "execution_count": 2,
   "id": "1db8429f",
   "metadata": {
    "id": "1db8429f"
   },
   "outputs": [],
   "source": [
    "import pandas as pd\n",
    "import os\n",
    "import sys\n",
    "import shutil\n",
    "from collections import namedtuple"
   ]
  },
  {
   "cell_type": "code",
   "execution_count": 3,
   "id": "1d9b74b1",
   "metadata": {
    "id": "1d9b74b1"
   },
   "outputs": [],
   "source": [
    "paths = {\n",
    "    'patient': 'nlst_780_prsn_idc_20210527.csv',\n",
    "    'abnormalities': 'nlst_780_ctab_idc_20210527.csv',\n",
    "    'screen': 'nlst_780_screen_idc_20210527.csv'\n",
    "}\n",
    "\n",
    "ClinicalData = namedtuple('ClinicalData', 'patient abnormalities screen')"
   ]
  },
  {
   "cell_type": "code",
   "execution_count": 4,
   "id": "b5d53550",
   "metadata": {
    "id": "b5d53550"
   },
   "outputs": [],
   "source": [
    "clinical_data = ClinicalData(\n",
    "    pd.read_csv(paths['patient']),\n",
    "    pd.read_csv(paths['abnormalities']),\n",
    "    pd.read_csv(paths['screen'])\n",
    ")"
   ]
  },
  {
   "cell_type": "code",
   "execution_count": 5,
   "id": "7db96f6f",
   "metadata": {
    "id": "7db96f6f",
    "outputId": "8305a536-c4c1-4a02-9875-2c3165d4eb25"
   },
   "outputs": [
    {
     "data": {
      "text/html": [
       "<div>\n",
       "<style scoped>\n",
       "    .dataframe tbody tr th:only-of-type {\n",
       "        vertical-align: middle;\n",
       "    }\n",
       "\n",
       "    .dataframe tbody tr th {\n",
       "        vertical-align: top;\n",
       "    }\n",
       "\n",
       "    .dataframe thead th {\n",
       "        text-align: right;\n",
       "    }\n",
       "</style>\n",
       "<table border=\"1\" class=\"dataframe\">\n",
       "  <thead>\n",
       "    <tr style=\"text-align: right;\">\n",
       "      <th></th>\n",
       "      <th>sct_ab_desc</th>\n",
       "      <th>sct_ab_num</th>\n",
       "      <th>sct_epi_loc</th>\n",
       "      <th>sct_long_dia</th>\n",
       "      <th>sct_margins</th>\n",
       "      <th>sct_perp_dia</th>\n",
       "      <th>sct_pre_att</th>\n",
       "      <th>study_yr</th>\n",
       "      <th>sct_slice_num</th>\n",
       "      <th>sct_found_after_comp</th>\n",
       "      <th>pid</th>\n",
       "      <th>dataset_version</th>\n",
       "    </tr>\n",
       "  </thead>\n",
       "  <tbody>\n",
       "    <tr>\n",
       "      <th>0</th>\n",
       "      <td>65</td>\n",
       "      <td>1</td>\n",
       "      <td>NaN</td>\n",
       "      <td>NaN</td>\n",
       "      <td>NaN</td>\n",
       "      <td>NaN</td>\n",
       "      <td>NaN</td>\n",
       "      <td>0</td>\n",
       "      <td>NaN</td>\n",
       "      <td>0.0</td>\n",
       "      <td>100002</td>\n",
       "      <td>2011.02.03/05.12.21</td>\n",
       "    </tr>\n",
       "    <tr>\n",
       "      <th>1</th>\n",
       "      <td>64</td>\n",
       "      <td>1</td>\n",
       "      <td>NaN</td>\n",
       "      <td>NaN</td>\n",
       "      <td>NaN</td>\n",
       "      <td>NaN</td>\n",
       "      <td>NaN</td>\n",
       "      <td>1</td>\n",
       "      <td>NaN</td>\n",
       "      <td>0.0</td>\n",
       "      <td>100002</td>\n",
       "      <td>2011.02.03/05.12.21</td>\n",
       "    </tr>\n",
       "    <tr>\n",
       "      <th>2</th>\n",
       "      <td>65</td>\n",
       "      <td>1</td>\n",
       "      <td>NaN</td>\n",
       "      <td>NaN</td>\n",
       "      <td>NaN</td>\n",
       "      <td>NaN</td>\n",
       "      <td>NaN</td>\n",
       "      <td>2</td>\n",
       "      <td>NaN</td>\n",
       "      <td>0.0</td>\n",
       "      <td>100002</td>\n",
       "      <td>2011.02.03/05.12.21</td>\n",
       "    </tr>\n",
       "    <tr>\n",
       "      <th>3</th>\n",
       "      <td>51</td>\n",
       "      <td>1</td>\n",
       "      <td>1.0</td>\n",
       "      <td>4.0</td>\n",
       "      <td>2.0</td>\n",
       "      <td>3.0</td>\n",
       "      <td>1.0</td>\n",
       "      <td>0</td>\n",
       "      <td>26.0</td>\n",
       "      <td>0.0</td>\n",
       "      <td>100004</td>\n",
       "      <td>2011.02.03/05.12.21</td>\n",
       "    </tr>\n",
       "    <tr>\n",
       "      <th>4</th>\n",
       "      <td>64</td>\n",
       "      <td>2</td>\n",
       "      <td>NaN</td>\n",
       "      <td>NaN</td>\n",
       "      <td>NaN</td>\n",
       "      <td>NaN</td>\n",
       "      <td>NaN</td>\n",
       "      <td>0</td>\n",
       "      <td>NaN</td>\n",
       "      <td>0.0</td>\n",
       "      <td>100004</td>\n",
       "      <td>2011.02.03/05.12.21</td>\n",
       "    </tr>\n",
       "  </tbody>\n",
       "</table>\n",
       "</div>"
      ],
      "text/plain": [
       "   sct_ab_desc  sct_ab_num  sct_epi_loc  sct_long_dia  sct_margins  \\\n",
       "0           65           1          NaN           NaN          NaN   \n",
       "1           64           1          NaN           NaN          NaN   \n",
       "2           65           1          NaN           NaN          NaN   \n",
       "3           51           1          1.0           4.0          2.0   \n",
       "4           64           2          NaN           NaN          NaN   \n",
       "\n",
       "   sct_perp_dia  sct_pre_att  study_yr  sct_slice_num  sct_found_after_comp  \\\n",
       "0           NaN          NaN         0            NaN                   0.0   \n",
       "1           NaN          NaN         1            NaN                   0.0   \n",
       "2           NaN          NaN         2            NaN                   0.0   \n",
       "3           3.0          1.0         0           26.0                   0.0   \n",
       "4           NaN          NaN         0            NaN                   0.0   \n",
       "\n",
       "      pid      dataset_version  \n",
       "0  100002  2011.02.03/05.12.21  \n",
       "1  100002  2011.02.03/05.12.21  \n",
       "2  100002  2011.02.03/05.12.21  \n",
       "3  100004  2011.02.03/05.12.21  \n",
       "4  100004  2011.02.03/05.12.21  "
      ]
     },
     "execution_count": 5,
     "metadata": {},
     "output_type": "execute_result"
    }
   ],
   "source": [
    "clinical_data.abnormalities.head()"
   ]
  },
  {
   "cell_type": "code",
   "execution_count": 6,
   "id": "42f73697",
   "metadata": {
    "id": "42f73697",
    "outputId": "d6de3121-d49f-4142-e109-671059477f58"
   },
   "outputs": [
    {
     "data": {
      "text/html": [
       "<div>\n",
       "<style scoped>\n",
       "    .dataframe tbody tr th:only-of-type {\n",
       "        vertical-align: middle;\n",
       "    }\n",
       "\n",
       "    .dataframe tbody tr th {\n",
       "        vertical-align: top;\n",
       "    }\n",
       "\n",
       "    .dataframe thead th {\n",
       "        text-align: right;\n",
       "    }\n",
       "</style>\n",
       "<table border=\"1\" class=\"dataframe\">\n",
       "  <thead>\n",
       "    <tr style=\"text-align: right;\">\n",
       "      <th></th>\n",
       "      <th>race</th>\n",
       "      <th>cigsmok</th>\n",
       "      <th>gender</th>\n",
       "      <th>age</th>\n",
       "      <th>loclhil</th>\n",
       "      <th>locllow</th>\n",
       "      <th>loclup</th>\n",
       "      <th>locrhil</th>\n",
       "      <th>locrlow</th>\n",
       "      <th>locrmid</th>\n",
       "      <th>...</th>\n",
       "      <th>can_scr</th>\n",
       "      <th>canc_rpt_link</th>\n",
       "      <th>pid</th>\n",
       "      <th>dataset_version</th>\n",
       "      <th>scr_days0</th>\n",
       "      <th>scr_days1</th>\n",
       "      <th>scr_days2</th>\n",
       "      <th>candx_days</th>\n",
       "      <th>canc_free_days</th>\n",
       "      <th>de_stag_7thed</th>\n",
       "    </tr>\n",
       "  </thead>\n",
       "  <tbody>\n",
       "    <tr>\n",
       "      <th>0</th>\n",
       "      <td>1</td>\n",
       "      <td>1</td>\n",
       "      <td>1</td>\n",
       "      <td>70</td>\n",
       "      <td>NaN</td>\n",
       "      <td>NaN</td>\n",
       "      <td>NaN</td>\n",
       "      <td>NaN</td>\n",
       "      <td>NaN</td>\n",
       "      <td>NaN</td>\n",
       "      <td>...</td>\n",
       "      <td>0</td>\n",
       "      <td>0</td>\n",
       "      <td>100001</td>\n",
       "      <td>2011.02.03/05.12.21</td>\n",
       "      <td>0.0</td>\n",
       "      <td>511.0</td>\n",
       "      <td>NaN</td>\n",
       "      <td>NaN</td>\n",
       "      <td>2353</td>\n",
       "      <td>NaN</td>\n",
       "    </tr>\n",
       "    <tr>\n",
       "      <th>1</th>\n",
       "      <td>1</td>\n",
       "      <td>1</td>\n",
       "      <td>1</td>\n",
       "      <td>66</td>\n",
       "      <td>NaN</td>\n",
       "      <td>NaN</td>\n",
       "      <td>NaN</td>\n",
       "      <td>NaN</td>\n",
       "      <td>NaN</td>\n",
       "      <td>NaN</td>\n",
       "      <td>...</td>\n",
       "      <td>0</td>\n",
       "      <td>0</td>\n",
       "      <td>100002</td>\n",
       "      <td>2011.02.03/05.12.21</td>\n",
       "      <td>13.0</td>\n",
       "      <td>349.0</td>\n",
       "      <td>731.0</td>\n",
       "      <td>NaN</td>\n",
       "      <td>2391</td>\n",
       "      <td>NaN</td>\n",
       "    </tr>\n",
       "    <tr>\n",
       "      <th>2</th>\n",
       "      <td>1</td>\n",
       "      <td>1</td>\n",
       "      <td>1</td>\n",
       "      <td>64</td>\n",
       "      <td>NaN</td>\n",
       "      <td>NaN</td>\n",
       "      <td>NaN</td>\n",
       "      <td>NaN</td>\n",
       "      <td>NaN</td>\n",
       "      <td>NaN</td>\n",
       "      <td>...</td>\n",
       "      <td>0</td>\n",
       "      <td>0</td>\n",
       "      <td>100003</td>\n",
       "      <td>2011.02.03/05.12.21</td>\n",
       "      <td>12.0</td>\n",
       "      <td>374.0</td>\n",
       "      <td>738.0</td>\n",
       "      <td>NaN</td>\n",
       "      <td>2381</td>\n",
       "      <td>NaN</td>\n",
       "    </tr>\n",
       "    <tr>\n",
       "      <th>3</th>\n",
       "      <td>1</td>\n",
       "      <td>0</td>\n",
       "      <td>1</td>\n",
       "      <td>60</td>\n",
       "      <td>NaN</td>\n",
       "      <td>NaN</td>\n",
       "      <td>NaN</td>\n",
       "      <td>NaN</td>\n",
       "      <td>NaN</td>\n",
       "      <td>NaN</td>\n",
       "      <td>...</td>\n",
       "      <td>0</td>\n",
       "      <td>0</td>\n",
       "      <td>100004</td>\n",
       "      <td>2011.02.03/05.12.21</td>\n",
       "      <td>8.0</td>\n",
       "      <td>452.0</td>\n",
       "      <td>743.0</td>\n",
       "      <td>NaN</td>\n",
       "      <td>2688</td>\n",
       "      <td>NaN</td>\n",
       "    </tr>\n",
       "    <tr>\n",
       "      <th>4</th>\n",
       "      <td>1</td>\n",
       "      <td>0</td>\n",
       "      <td>1</td>\n",
       "      <td>64</td>\n",
       "      <td>NaN</td>\n",
       "      <td>NaN</td>\n",
       "      <td>NaN</td>\n",
       "      <td>NaN</td>\n",
       "      <td>NaN</td>\n",
       "      <td>NaN</td>\n",
       "      <td>...</td>\n",
       "      <td>0</td>\n",
       "      <td>0</td>\n",
       "      <td>100005</td>\n",
       "      <td>2011.02.03/05.12.21</td>\n",
       "      <td>56.0</td>\n",
       "      <td>382.0</td>\n",
       "      <td>746.0</td>\n",
       "      <td>NaN</td>\n",
       "      <td>2435</td>\n",
       "      <td>NaN</td>\n",
       "    </tr>\n",
       "  </tbody>\n",
       "</table>\n",
       "<p>5 rows × 39 columns</p>\n",
       "</div>"
      ],
      "text/plain": [
       "   race  cigsmok  gender  age  loclhil  locllow  loclup  locrhil  locrlow  \\\n",
       "0     1        1       1   70      NaN      NaN     NaN      NaN      NaN   \n",
       "1     1        1       1   66      NaN      NaN     NaN      NaN      NaN   \n",
       "2     1        1       1   64      NaN      NaN     NaN      NaN      NaN   \n",
       "3     1        0       1   60      NaN      NaN     NaN      NaN      NaN   \n",
       "4     1        0       1   64      NaN      NaN     NaN      NaN      NaN   \n",
       "\n",
       "   locrmid  ...  can_scr  canc_rpt_link     pid      dataset_version  \\\n",
       "0      NaN  ...        0              0  100001  2011.02.03/05.12.21   \n",
       "1      NaN  ...        0              0  100002  2011.02.03/05.12.21   \n",
       "2      NaN  ...        0              0  100003  2011.02.03/05.12.21   \n",
       "3      NaN  ...        0              0  100004  2011.02.03/05.12.21   \n",
       "4      NaN  ...        0              0  100005  2011.02.03/05.12.21   \n",
       "\n",
       "   scr_days0  scr_days1  scr_days2  candx_days  canc_free_days  de_stag_7thed  \n",
       "0        0.0      511.0        NaN         NaN            2353            NaN  \n",
       "1       13.0      349.0      731.0         NaN            2391            NaN  \n",
       "2       12.0      374.0      738.0         NaN            2381            NaN  \n",
       "3        8.0      452.0      743.0         NaN            2688            NaN  \n",
       "4       56.0      382.0      746.0         NaN            2435            NaN  \n",
       "\n",
       "[5 rows x 39 columns]"
      ]
     },
     "execution_count": 6,
     "metadata": {},
     "output_type": "execute_result"
    }
   ],
   "source": [
    "clinical_data.patient.head()"
   ]
  },
  {
   "cell_type": "code",
   "execution_count": 7,
   "id": "33db1ee7",
   "metadata": {
    "id": "33db1ee7",
    "outputId": "51454295-0ae0-4df9-95b9-5b29dbec19f6"
   },
   "outputs": [
    {
     "name": "stdout",
     "output_type": "stream",
     "text": [
      "there are 26453 pds that underwent ct imaging\n"
     ]
    }
   ],
   "source": [
    "\"\"\"\n",
    "First, let's get the patients that we know had ct scans by isolationg all the PIDs \n",
    "that are in the screen data table\n",
    "\"\"\"\n",
    "ct_pids = set(clinical_data.screen.pid)\n",
    "print('there are {} pds that underwent ct imaging'.format(len(ct_pids)))"
   ]
  },
  {
   "cell_type": "code",
   "execution_count": 8,
   "id": "0abd7f7f",
   "metadata": {
    "id": "0abd7f7f",
    "outputId": "e54a50e3-6a9e-466b-eea1-5de9b589fbaf"
   },
   "outputs": [
    {
     "name": "stdout",
     "output_type": "stream",
     "text": [
      "there are pids in the abnormalities dataset that may not be from ct scans\n"
     ]
    }
   ],
   "source": [
    "\"\"\"\n",
    "Now, let us check if there are non-ct patients in the abnormalities dataset\n",
    "\"\"\"\n",
    "\n",
    "abnormality_pids = set(\n",
    "    clinical_data.abnormalities.pid\n",
    ")\n",
    "\n",
    "if abnormality_pids.issubset(ct_pids):\n",
    "    print('all abnormality pids are in the ct pids')\n",
    "else:\n",
    "    print('there are pids in the abnormalities dataset that may not be from ct scans')"
   ]
  },
  {
   "cell_type": "markdown",
   "id": "aaac6460",
   "metadata": {
    "id": "aaac6460"
   },
   "source": []
  },
  {
   "cell_type": "code",
   "execution_count": 9,
   "id": "e712d3b0",
   "metadata": {
    "id": "e712d3b0",
    "outputId": "b7950ed9-23f5-4e59-c713-27b0a5682c10"
   },
   "outputs": [
    {
     "name": "stdout",
     "output_type": "stream",
     "text": [
      "(75138, 20)\n"
     ]
    }
   ],
   "source": [
    "\"\"\"\n",
    "How many scans are in the screen dataset?\n",
    "\"\"\"\n",
    "\n",
    "print(clinical_data.screen.shape)"
   ]
  },
  {
   "cell_type": "code",
   "execution_count": 10,
   "id": "4035b50e",
   "metadata": {
    "id": "4035b50e",
    "outputId": "19766ab4-bc88-41d5-ca17-4603af5fe1f9"
   },
   "outputs": [
    {
     "name": "stdout",
     "output_type": "stream",
     "text": [
      "(177487, 12)\n"
     ]
    }
   ],
   "source": [
    "print(clinical_data.abnormalities.shape)"
   ]
  },
  {
   "cell_type": "code",
   "execution_count": 11,
   "id": "ed681eb4",
   "metadata": {
    "id": "ed681eb4",
    "outputId": "80a952b2-ea7e-4e13-a705-b5ba829c47c7"
   },
   "outputs": [
    {
     "name": "stdout",
     "output_type": "stream",
     "text": [
      "24512\n"
     ]
    }
   ],
   "source": [
    "print(len(abnormality_pids.intersection(ct_pids)))"
   ]
  },
  {
   "cell_type": "code",
   "execution_count": 12,
   "id": "63b26b87",
   "metadata": {
    "id": "63b26b87"
   },
   "outputs": [],
   "source": [
    "\"\"\"\n",
    "apply the first filter: \n",
    "\n",
    "only the pids that are in screen dataset\n",
    "\"\"\"\n",
    "\n",
    "ct_abnormalities_data = clinical_data.abnormalities[clinical_data.abnormalities.pid.isin(ct_pids)]"
   ]
  },
  {
   "cell_type": "code",
   "execution_count": 13,
   "id": "c4dce18f",
   "metadata": {
    "id": "c4dce18f"
   },
   "outputs": [],
   "source": [
    "\"\"\"\n",
    "Find the positive patient pids\n",
    "\"\"\"\n",
    "\n",
    "positive_labels = {4, 5, 6}\n",
    "negative_labels = {1, 2, 3}\n",
    "\n",
    "negative_pids = set()\n",
    "negative_pid_rows = []\n",
    "positive_pids = set()\n",
    "positive_pid_rows = []\n",
    "for index, row in clinical_data.patient.iterrows():\n",
    "    if row['scr_iso0'] in positive_labels or row['scr_iso1'] in positive_labels or row['scr_iso2'] in positive_labels:\n",
    "        positive_pids.add(row['pid'])\n",
    "        positive_pid_rows.append(index)\n",
    "    elif ((row['scr_iso0'] in negative_labels) and \n",
    "    (row['scr_iso1'] in negative_labels) and\n",
    "    (row['scr_iso2'] in negative_labels)):\n",
    "        negative_pids.add(row['pid'])\n",
    "        negative_pid_rows.append(index)"
   ]
  },
  {
   "cell_type": "code",
   "execution_count": 14,
   "id": "638085c5",
   "metadata": {
    "id": "638085c5",
    "outputId": "dbf52750-0b2d-4bab-d566-e0e996f2759e"
   },
   "outputs": [
    {
     "name": "stdout",
     "output_type": "stream",
     "text": [
      "there are 14750 positive patients\n",
      "there are 33556 negative patients\n"
     ]
    }
   ],
   "source": [
    "\"\"\"\n",
    "print the results of the thing\n",
    "\n",
    "\"\"\"\n",
    "\n",
    "print('there are {} positive patients'.format(len(positive_pids)))\n",
    "print('there are {} negative patients'.format(len(negative_pids)))"
   ]
  },
  {
   "cell_type": "code",
   "execution_count": 15,
   "id": "e1b961f6",
   "metadata": {
    "id": "e1b961f6"
   },
   "outputs": [],
   "source": [
    "positive_scans_data = clinical_data.abnormalities[clinical_data.abnormalities.pid.isin(positive_pids)]"
   ]
  },
  {
   "cell_type": "code",
   "execution_count": 16,
   "id": "8e25788e",
   "metadata": {
    "id": "8e25788e"
   },
   "outputs": [],
   "source": [
    "\"\"\"\n",
    "The next filter is for those abnormality types that were 51. \n",
    "\n",
    "that is, sct_ab_desc == 51\n",
    "\"\"\"\n",
    "\n",
    "positive_scans_data = positive_scans_data[positive_scans_data['sct_ab_desc'] == 51]"
   ]
  },
  {
   "cell_type": "markdown",
   "id": "11692c8b",
   "metadata": {},
   "source": [
    "## Interlude: How many of these abnormalities were found only after comparison?\n",
    "\n"
   ]
  },
  {
   "cell_type": "code",
   "execution_count": 17,
   "id": "fd68b0be",
   "metadata": {},
   "outputs": [
    {
     "name": "stdout",
     "output_type": "stream",
     "text": [
      "(465, 12)\n"
     ]
    }
   ],
   "source": [
    "\"\"\"\n",
    "Filter the dataset with sct_found_after_comp == 1\n",
    "\n",
    "\"\"\"\n",
    "\n",
    "comp_positives = positive_scans_data[positive_scans_data.sct_found_after_comp == 1]\n",
    "#comp_positives = comp_positives[comp_positives.sct_ab_num == 1]\n",
    "print(comp_positives.shape)"
   ]
  },
  {
   "cell_type": "markdown",
   "id": "1e99f098",
   "metadata": {},
   "source": [
    "So a not-insignificant number of these abnormalities were found after comparison. This is an interesting thing to keep in mind later. The easiest way to test this is by just preparing this datset for inference after we have trained the model. "
   ]
  },
  {
   "cell_type": "code",
   "execution_count": 18,
   "id": "94d410ec",
   "metadata": {},
   "outputs": [
    {
     "name": "stdout",
     "output_type": "stream",
     "text": [
      "(18003, 12)\n"
     ]
    }
   ],
   "source": [
    "\"\"\"\n",
    "The next filter is to account for scans that have more than one kind of abnormality. \n",
    "We do this by only choosing the first abnormality of type 51. \n",
    "\n",
    "also: filter by abnormalities found only on first look. Maybe prepare another dataset that has\n",
    "\n",
    "sct_ab_num == 1\n",
    "\"\"\"\n",
    "\n",
    "\n",
    "positive_scans_data = positive_scans_data[positive_scans_data.sct_ab_num == 1]\n",
    "print(positive_scans_data.shape)\n"
   ]
  },
  {
   "cell_type": "code",
   "execution_count": 19,
   "id": "e2274471",
   "metadata": {},
   "outputs": [
    {
     "name": "stdout",
     "output_type": "stream",
     "text": [
      "(17907, 12)\n"
     ]
    }
   ],
   "source": [
    "\"\"\"\n",
    "Now we filter for abnormalitites that were only fond in isolation\n",
    "\"\"\"\n",
    "\n",
    "positive_scans_data = positive_scans_data[positive_scans_data.sct_found_after_comp == 0]\n",
    "print(positive_scans_data.shape)"
   ]
  },
  {
   "cell_type": "code",
   "execution_count": 20,
   "id": "d3111d8c",
   "metadata": {
    "id": "d3111d8c",
    "outputId": "6892c6bc-1719-4d0f-debb-bda740bd99a5"
   },
   "outputs": [
    {
     "data": {
      "text/plain": [
       "{51}"
      ]
     },
     "execution_count": 20,
     "metadata": {},
     "output_type": "execute_result"
    }
   ],
   "source": [
    "set(positive_scans_data.sct_ab_desc)"
   ]
  },
  {
   "cell_type": "code",
   "execution_count": 21,
   "id": "d9a188ea",
   "metadata": {
    "id": "d9a188ea"
   },
   "outputs": [],
   "source": [
    "download_data = positive_scans_data[['pid', 'study_yr', 'sct_ab_desc', 'sct_slice_num']]"
   ]
  },
  {
   "cell_type": "code",
   "execution_count": 22,
   "id": "9263647f",
   "metadata": {
    "id": "9263647f",
    "outputId": "7ba645f5-2644-4ee6-a08c-88a492d5cd80"
   },
   "outputs": [
    {
     "data": {
      "text/html": [
       "<div>\n",
       "<style scoped>\n",
       "    .dataframe tbody tr th:only-of-type {\n",
       "        vertical-align: middle;\n",
       "    }\n",
       "\n",
       "    .dataframe tbody tr th {\n",
       "        vertical-align: top;\n",
       "    }\n",
       "\n",
       "    .dataframe thead th {\n",
       "        text-align: right;\n",
       "    }\n",
       "</style>\n",
       "<table border=\"1\" class=\"dataframe\">\n",
       "  <thead>\n",
       "    <tr style=\"text-align: right;\">\n",
       "      <th></th>\n",
       "      <th>pid</th>\n",
       "      <th>study_yr</th>\n",
       "      <th>sct_ab_desc</th>\n",
       "      <th>sct_slice_num</th>\n",
       "    </tr>\n",
       "  </thead>\n",
       "  <tbody>\n",
       "    <tr>\n",
       "      <th>3</th>\n",
       "      <td>100004</td>\n",
       "      <td>0</td>\n",
       "      <td>51</td>\n",
       "      <td>26.0</td>\n",
       "    </tr>\n",
       "    <tr>\n",
       "      <th>6</th>\n",
       "      <td>100004</td>\n",
       "      <td>1</td>\n",
       "      <td>51</td>\n",
       "      <td>22.0</td>\n",
       "    </tr>\n",
       "    <tr>\n",
       "      <th>9</th>\n",
       "      <td>100005</td>\n",
       "      <td>0</td>\n",
       "      <td>51</td>\n",
       "      <td>32.0</td>\n",
       "    </tr>\n",
       "    <tr>\n",
       "      <th>13</th>\n",
       "      <td>100005</td>\n",
       "      <td>1</td>\n",
       "      <td>51</td>\n",
       "      <td>38.0</td>\n",
       "    </tr>\n",
       "    <tr>\n",
       "      <th>18</th>\n",
       "      <td>100005</td>\n",
       "      <td>2</td>\n",
       "      <td>51</td>\n",
       "      <td>38.0</td>\n",
       "    </tr>\n",
       "  </tbody>\n",
       "</table>\n",
       "</div>"
      ],
      "text/plain": [
       "       pid  study_yr  sct_ab_desc  sct_slice_num\n",
       "3   100004         0           51           26.0\n",
       "6   100004         1           51           22.0\n",
       "9   100005         0           51           32.0\n",
       "13  100005         1           51           38.0\n",
       "18  100005         2           51           38.0"
      ]
     },
     "execution_count": 22,
     "metadata": {},
     "output_type": "execute_result"
    }
   ],
   "source": [
    "download_data.head()"
   ]
  },
  {
   "cell_type": "code",
   "execution_count": 23,
   "id": "72104958",
   "metadata": {
    "id": "72104958"
   },
   "outputs": [],
   "source": [
    "\"\"\"\n",
    "Now let's get the data for the negative patients. \n",
    "\n",
    "For each patient, we get three negative scans. We do not have any way of tracking the number of slices or depth of the lkj\n",
    "\"\"\"\n",
    "\n",
    "#check that no negative patient ids are in the dataset we just go \n",
    "\n",
    "if set(positive_scans_data.pid).intersection(negative_pids):\n",
    "    print('there is intersect between the negative and positive patients')"
   ]
  },
  {
   "cell_type": "code",
   "execution_count": 24,
   "id": "05cd7578",
   "metadata": {
    "id": "05cd7578"
   },
   "outputs": [],
   "source": [
    "#very good. "
   ]
  },
  {
   "cell_type": "code",
   "execution_count": 25,
   "id": "59437309",
   "metadata": {
    "id": "59437309"
   },
   "outputs": [],
   "source": [
    "#now to get the data about the negative patients. We just need a table\n",
    "\n",
    "negative_patient_data = clinical_data.patient[clinical_data.patient.pid.isin(negative_pids)]"
   ]
  },
  {
   "cell_type": "code",
   "execution_count": 29,
   "id": "5d1c2810",
   "metadata": {
    "id": "5d1c2810",
    "outputId": "148b6401-993d-4a93-e49b-8b26d5c55468"
   },
   "outputs": [
    {
     "data": {
      "text/html": [
       "<div>\n",
       "<style scoped>\n",
       "    .dataframe tbody tr th:only-of-type {\n",
       "        vertical-align: middle;\n",
       "    }\n",
       "\n",
       "    .dataframe tbody tr th {\n",
       "        vertical-align: top;\n",
       "    }\n",
       "\n",
       "    .dataframe thead th {\n",
       "        text-align: right;\n",
       "    }\n",
       "</style>\n",
       "<table border=\"1\" class=\"dataframe\">\n",
       "  <thead>\n",
       "    <tr style=\"text-align: right;\">\n",
       "      <th></th>\n",
       "      <th>pid</th>\n",
       "      <th>scr_iso0</th>\n",
       "      <th>scr_iso1</th>\n",
       "      <th>scr_iso2</th>\n",
       "    </tr>\n",
       "  </thead>\n",
       "  <tbody>\n",
       "    <tr>\n",
       "      <th>1</th>\n",
       "      <td>100002</td>\n",
       "      <td>2</td>\n",
       "      <td>3</td>\n",
       "      <td>2</td>\n",
       "    </tr>\n",
       "    <tr>\n",
       "      <th>5</th>\n",
       "      <td>100006</td>\n",
       "      <td>1</td>\n",
       "      <td>1</td>\n",
       "      <td>1</td>\n",
       "    </tr>\n",
       "    <tr>\n",
       "      <th>7</th>\n",
       "      <td>100008</td>\n",
       "      <td>1</td>\n",
       "      <td>1</td>\n",
       "      <td>1</td>\n",
       "    </tr>\n",
       "    <tr>\n",
       "      <th>8</th>\n",
       "      <td>100009</td>\n",
       "      <td>1</td>\n",
       "      <td>2</td>\n",
       "      <td>2</td>\n",
       "    </tr>\n",
       "    <tr>\n",
       "      <th>9</th>\n",
       "      <td>100010</td>\n",
       "      <td>2</td>\n",
       "      <td>1</td>\n",
       "      <td>2</td>\n",
       "    </tr>\n",
       "  </tbody>\n",
       "</table>\n",
       "</div>"
      ],
      "text/plain": [
       "      pid  scr_iso0  scr_iso1  scr_iso2\n",
       "1  100002         2         3         2\n",
       "5  100006         1         1         1\n",
       "7  100008         1         1         1\n",
       "8  100009         1         2         2\n",
       "9  100010         2         1         2"
      ]
     },
     "execution_count": 29,
     "metadata": {},
     "output_type": "execute_result"
    }
   ],
   "source": [
    "negative_patient_data = negative_patient_data[['pid', 'scr_iso0', 'scr_iso1', 'scr_iso2']]\n",
    "negative_patient_data.head()"
   ]
  },
  {
   "cell_type": "code",
   "execution_count": 30,
   "id": "56d55ad9",
   "metadata": {
    "id": "56d55ad9"
   },
   "outputs": [],
   "source": [
    "\"\"\"\n",
    "just save both of them\n",
    "\n",
    "\"\"\"\n",
    "\n",
    "#negative_patient_data.to_csv('negative_patient_cohort.csv')\n",
    "\n",
    "#download_data.to_csv('positive_scan_cohort.csv')"
   ]
  },
  {
   "cell_type": "code",
   "execution_count": null,
   "id": "5b29515b",
   "metadata": {
    "id": "5b29515b"
   },
   "outputs": [],
   "source": []
  }
 ],
 "metadata": {
  "colab": {
   "name": "positive-patient-cohort-selection.ipynb",
   "provenance": []
  },
  "kernelspec": {
   "display_name": "Python [conda env:basic-pytorch]",
   "language": "python",
   "name": "conda-env-basic-pytorch-py"
  },
  "language_info": {
   "codemirror_mode": {
    "name": "ipython",
    "version": 3
   },
   "file_extension": ".py",
   "mimetype": "text/x-python",
   "name": "python",
   "nbconvert_exporter": "python",
   "pygments_lexer": "ipython3",
   "version": "3.7.13"
  }
 },
 "nbformat": 4,
 "nbformat_minor": 5
}
